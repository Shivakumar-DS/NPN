{
 "cells": [
  {
   "cell_type": "code",
   "execution_count": 43,
   "metadata": {
    "scrolled": true
   },
   "outputs": [],
   "source": [
    "import pandas as pd\n",
    "import numpy as np\n",
    "from scipy import stats\n",
    "from sklearn.metrics import matthews_corrcoef"
   ]
  },
  {
   "cell_type": "code",
   "execution_count": 27,
   "metadata": {},
   "outputs": [],
   "source": [
    "data_points = {\"X\":[1,2,3,4,5,6],\"y\":[1,2,3,4,5,6]}"
   ]
  },
  {
   "cell_type": "code",
   "execution_count": 53,
   "metadata": {
    "scrolled": true
   },
   "outputs": [],
   "source": [
    "df = pd.DataFrame(data=data_points,columns=['X','y'])\n",
    "#print(df)"
   ]
  },
  {
   "cell_type": "code",
   "execution_count": 48,
   "metadata": {
    "scrolled": true
   },
   "outputs": [
    {
     "name": "stdout",
     "output_type": "stream",
     "text": [
      "Pearsons correlation using Scipy: 1.000\n",
      "p Value :0.000\n",
      "Pearsons correlation using Numpy:       X    y\n",
      "X  1.0  1.0\n",
      "y  1.0  1.0\n",
      "Pearson Coefficinet Formula using Sklearn: 1.0\n"
     ]
    }
   ],
   "source": [
    "#Pearson Coefficient Formula using Scipy\n",
    "corr, p_value = stats.pearsonr(df[\"X\"], df[\"y\"])\n",
    "print('Pearsons correlation using Scipy: %.3f' % corr)\n",
    "print('p Value :%.3f' % p_value)\n",
    "#Pearson Coefficient Formula using Numpy\n",
    "print('Pearsons correlation using Numpy: ', df.corr())\n",
    "#Pearson Coefficient Formula using Sklearn\n",
    "sklearn_corr = matthews_corrcoef(df[\"X\"], df[\"y\"])\n",
    "print(\"Pearson Coefficinet Formula using Sklearn:\", sklearn_corr)"
   ]
  },
  {
   "cell_type": "code",
   "execution_count": 51,
   "metadata": {},
   "outputs": [],
   "source": [
    "def corr(data1, data2):\n",
    "    \"data1 & data2 are numpy arrays.\"\n",
    "    mean1 = data1.mean() \n",
    "    mean2 = data2.mean()\n",
    "    std1 = data1.std()\n",
    "    std2 = data2.std()\n",
    "    corr = ((data1*data2).mean()-(mean1*mean2))/(std1*std2)\n",
    "    return corr"
   ]
  },
  {
   "cell_type": "code",
   "execution_count": 52,
   "metadata": {},
   "outputs": [
    {
     "name": "stdout",
     "output_type": "stream",
     "text": [
      "0.8333333333333331\n"
     ]
    }
   ],
   "source": [
    "corr_result = corr(df[\"X\"],df[\"y\"])\n",
    "print(corr_result)"
   ]
  }
 ],
 "metadata": {
  "kernelspec": {
   "display_name": "Python 3",
   "language": "python",
   "name": "python3"
  },
  "language_info": {
   "codemirror_mode": {
    "name": "ipython",
    "version": 3
   },
   "file_extension": ".py",
   "mimetype": "text/x-python",
   "name": "python",
   "nbconvert_exporter": "python",
   "pygments_lexer": "ipython3",
   "version": "3.7.4"
  }
 },
 "nbformat": 4,
 "nbformat_minor": 2
}
