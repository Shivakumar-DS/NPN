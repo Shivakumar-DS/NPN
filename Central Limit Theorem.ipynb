{
 "cells": [
  {
   "cell_type": "markdown",
   "metadata": {},
   "source": [
    "Given a population of n, create a sample size of m from a population calculate the mean of each sample and create a histogram of those means, then prove the resulting histogram will tend to have a normal bell shape"
   ]
  },
  {
   "cell_type": "code",
   "execution_count": 11,
   "metadata": {},
   "outputs": [],
   "source": [
    "import pandas as pd\n",
    "import numpy as np\n",
    "import seaborn as sns\n",
    "import matplotlib.pyplot as plt\n",
    "import scipy.stats as stats"
   ]
  },
  {
   "cell_type": "code",
   "execution_count": 23,
   "metadata": {},
   "outputs": [
    {
     "data": {
      "text/plain": [
       "array([71, 84, 79, 74, 65, 72, 64, 82, 89, 79, 78, 86, 71, 86, 73, 83, 67,\n",
       "       68, 66, 72, 67, 72, 88, 82, 72, 84, 81, 64, 67, 84, 72, 77, 66, 87,\n",
       "       61, 80, 84, 67, 75, 80, 67, 62, 69, 75, 62, 75, 75, 68, 66, 87])"
      ]
     },
     "execution_count": 23,
     "metadata": {},
     "output_type": "execute_result"
    }
   ],
   "source": [
    "# Given population 'n'\n",
    "population_n = np.random.randint(60, 90, 50)\n",
    "population_n"
   ]
  },
  {
   "cell_type": "code",
   "execution_count": 24,
   "metadata": {},
   "outputs": [
    {
     "data": {
      "image/png": "[encoded data removed]",
      "text/plain": [
       "<Figure size 432x288 with 1 Axes>"
      ]
     },
     "metadata": {
      "needs_background": "light"
     },
     "output_type": "display_data"
    },
    {
     "name": "stdout",
     "output_type": "stream",
     "text": [
      "The mean of the sample means is 74.46951999999999\n"
     ]
    }
   ],
   "source": [
    "# Create sample of size m >=30 from a population\n",
    "# Calculate the mean of each sample and create a histogram of those means\n",
    "# calculate the mean of 50 samples 1000 times\n",
    "sample_means = [np.mean(np.random.randint(60, 90, 50)) for i in range(1000)]\n",
    "plt.hist(sample_means)\n",
    "plt.show()\n",
    "print('The mean of the sample means is {}'.format(np.mean(sample_means)))"
   ]
  },
  {
   "cell_type": "markdown",
   "metadata": {},
   "source": [
    "H0: data follow a Normal distribution\n",
    "H1: data do not follow a Normal distribution"
   ]
  },
  {
   "cell_type": "code",
   "execution_count": 13,
   "metadata": {
    "scrolled": true
   },
   "outputs": [
    {
     "name": "stdout",
     "output_type": "stream",
     "text": [
      "Statistics=0.9981308579444885, p=0.3418407440185547\n",
      "Sample looks Normal (do not reject H0)\n"
     ]
    }
   ],
   "source": [
    "stat, p = stats.shapiro(means)\n",
    "print('Statistics={}, p={}'.format(stat, p))\n",
    "alpha = 0.05\n",
    "if p > alpha:\n",
    "    print('Sample looks Normal (do not reject H0)')\n",
    "else:\n",
    "    print('Sample does not look Normal (reject H0)')"
   ]
  },
  {
   "cell_type": "code",
   "execution_count": 21,
   "metadata": {},
   "outputs": [
    {
     "data": {
      "text/plain": [
       "(array([ 11.,  29.,  76., 173., 220., 217., 150.,  85.,  29.,  10.]),\n",
       " array([71.98 , 72.492, 73.004, 73.516, 74.028, 74.54 , 75.052, 75.564,\n",
       "        76.076, 76.588, 77.1  ]),\n",
       " <a list of 10 Patch objects>)"
      ]
     },
     "execution_count": 21,
     "metadata": {},
     "output_type": "execute_result"
    },
    {
     "data": {
      "image/png": "[encoded data removed]",
      "text/plain": [
       "<Figure size 1440x720 with 3 Axes>"
      ]
     },
     "metadata": {
      "needs_background": "light"
     },
     "output_type": "display_data"
    }
   ],
   "source": [
    "# Increasing the sample size to 80, 90 and 100 \n",
    "means_80 = [np.mean(np.random.randint(60, 90, 80)) for i in range(1000)]\n",
    "means_90 = [np.mean(np.random.randint(60, 90, 90)) for i in range(1000)]\n",
    "means_100 = [np.mean(np.random.randint(60, 90, 100)) for i in range(1000)]\n",
    "\n",
    "fig = plt.figure(figsize=(20,10))\n",
    "fig.add_subplot(2,3,1)\n",
    "plt.hist(means_80)\n",
    "fig.add_subplot(2,3,2)\n",
    "plt.hist(means_90)\n",
    "fig.add_subplot(2,3,3)\n",
    "plt.hist(means_100)\n",
    "#plt.show()"
   ]
  }
 ],
 "metadata": {
  "kernelspec": {
   "display_name": "Python 3",
   "language": "python",
   "name": "python3"
  },
  "language_info": {
   "codemirror_mode": {
    "name": "ipython",
    "version": 3
   },
   "file_extension": ".py",
   "mimetype": "text/x-python",
   "name": "python",
   "nbconvert_exporter": "python",
   "pygments_lexer": "ipython3",
   "version": "3.7.6"
  }
 },
 "nbformat": 4,
 "nbformat_minor": 4
}
