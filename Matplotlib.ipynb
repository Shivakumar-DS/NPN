{
 "cells": [
  {
   "cell_type": "code",
   "execution_count": 2,
   "metadata": {},
   "outputs": [],
   "source": [
    "import matplotlib.pyplot as plt\n",
    "import pandas as pd\n",
    "import numpy as np\n",
    "%matplotlib inline"
   ]
  },
  {
   "cell_type": "code",
   "execution_count": 22,
   "metadata": {},
   "outputs": [],
   "source": [
    "temp_data = pd.read_csv('C:/Users/tin2383/Desktop/temp.csv')"
   ]
  },
  {
   "cell_type": "code",
   "execution_count": 26,
   "metadata": {},
   "outputs": [
    {
     "data": {
      "image/png": "[encoded data removed]",
      "text/plain": [
       "<Figure size 432x288 with 1 Axes>"
      ]
     },
     "metadata": {
      "needs_background": "light"
     },
     "output_type": "display_data"
    }
   ],
   "source": [
    "plt.plot(temp_data['day'],temp_data['temp'], c = 'g',marker='*',label='Temp')\n",
    "plt.plot(temp_data['day'],temp_data['windspeed'], c = 'b',marker='.',label = 'Windspeed')\n",
    "plt.xlabel(\"Day\")\n",
    "plt.ylabel(\"Temperature\")\n",
    "plt.title(\"Trend of Temperature\")\n",
    "#plt.yticks(range(0,40,2)) -Comment\n",
    "plt.legend()\n",
    "plt.savefig(\"temp_trend.jpg\")"
   ]
  },
  {
   "cell_type": "code",
   "execution_count": 27,
   "metadata": {},
   "outputs": [],
   "source": [
    "bike_sharing = pd.read_csv('C:/Users/tin2383/Desktop/temp.csv')"
   ]
  },
  {
   "cell_type": "code",
   "execution_count": 35,
   "metadata": {},
   "outputs": [
    {
     "ename": "NameError",
     "evalue": "name 'kwargs' is not defined",
     "output_type": "error",
     "traceback": [
      "\u001b[1;31m---------------------------------------------------------------------------\u001b[0m",
      "\u001b[1;31mNameError\u001b[0m                                 Traceback (most recent call last)",
      "\u001b[1;32m<ipython-input-35-e0b147a7c833>\u001b[0m in \u001b[0;36m<module>\u001b[1;34m\u001b[0m\n\u001b[0;32m      1\u001b[0m \u001b[0mplt\u001b[0m\u001b[1;33m.\u001b[0m\u001b[0mhist\u001b[0m\u001b[1;33m(\u001b[0m\u001b[0mbike_sharing\u001b[0m\u001b[1;33m[\u001b[0m\u001b[1;34m'temp'\u001b[0m\u001b[1;33m]\u001b[0m\u001b[1;33m,\u001b[0m\u001b[0mbins\u001b[0m\u001b[1;33m=\u001b[0m\u001b[0mrange\u001b[0m\u001b[1;33m(\u001b[0m\u001b[1;36m0\u001b[0m\u001b[1;33m,\u001b[0m\u001b[1;36m40\u001b[0m\u001b[1;33m,\u001b[0m\u001b[1;36m2\u001b[0m\u001b[1;33m)\u001b[0m\u001b[1;33m)\u001b[0m\u001b[1;33m\u001b[0m\u001b[1;33m\u001b[0m\u001b[0m\n\u001b[1;32m----> 2\u001b[1;33m \u001b[0mplt\u001b[0m\u001b[1;33m.\u001b[0m\u001b[0mxticks\u001b[0m\u001b[1;33m(\u001b[0m\u001b[0mrange\u001b[0m\u001b[1;33m(\u001b[0m\u001b[1;36m0\u001b[0m\u001b[1;33m,\u001b[0m\u001b[1;36m40\u001b[0m\u001b[1;33m,\u001b[0m\u001b[1;36m2\u001b[0m\u001b[1;33m)\u001b[0m\u001b[1;33m,\u001b[0m\u001b[1;33m**\u001b[0m\u001b[0mkwargs\u001b[0m\u001b[1;33m)\u001b[0m\u001b[1;33m\u001b[0m\u001b[1;33m\u001b[0m\u001b[0m\n\u001b[0m",
      "\u001b[1;31mNameError\u001b[0m: name 'kwargs' is not defined"
     ]
    },
    {
     "data": {
      "image/png": "[encoded data removed]",
      "text/plain": [
       "<Figure size 432x288 with 1 Axes>"
      ]
     },
     "metadata": {
      "needs_background": "light"
     },
     "output_type": "display_data"
    }
   ],
   "source": [
    "plt.hist(bike_sharing['temp'],bins=range(0,40,2))\n",
    "plt.xticks(range(0,40,2))"
   ]
  },
  {
   "cell_type": "code",
   "execution_count": 31,
   "metadata": {},
   "outputs": [
    {
     "name": "stdout",
     "output_type": "stream",
     "text": [
      "Help on function xticks in module matplotlib.pyplot:\n",
      "\n",
      "xticks(ticks=None, labels=None, **kwargs)\n",
      "    Get or set the current tick locations and labels of the x-axis.\n",
      "    \n",
      "    Call signatures::\n",
      "    \n",
      "        locs, labels = xticks()            # Get locations and labels\n",
      "        xticks(ticks, [labels], **kwargs)  # Set locations and labels\n",
      "    \n",
      "    Parameters\n",
      "    ----------\n",
      "    ticks : array_like\n",
      "        A list of positions at which ticks should be placed. You can pass an\n",
      "        empty list to disable xticks.\n",
      "    \n",
      "    labels : array_like, optional\n",
      "        A list of explicit labels to place at the given *locs*.\n",
      "    \n",
      "    **kwargs\n",
      "        :class:`.Text` properties can be used to control the appearance of\n",
      "        the labels.\n",
      "    \n",
      "    Returns\n",
      "    -------\n",
      "    locs\n",
      "        An array of label locations.\n",
      "    labels\n",
      "        A list of `.Text` objects.\n",
      "    \n",
      "    Notes\n",
      "    -----\n",
      "    Calling this function with no arguments (e.g. ``xticks()``) is the pyplot\n",
      "    equivalent of calling `~.Axes.get_xticks` and `~.Axes.get_xticklabels` on\n",
      "    the current axes.\n",
      "    Calling this function with arguments is the pyplot equivalent of calling\n",
      "    `~.Axes.set_xticks` and `~.Axes.set_xticklabels` on the current axes.\n",
      "    \n",
      "    Examples\n",
      "    --------\n",
      "    Get the current locations and labels:\n",
      "    \n",
      "        >>> locs, labels = xticks()\n",
      "    \n",
      "    Set label locations:\n",
      "    \n",
      "        >>> xticks(np.arange(0, 1, step=0.2))\n",
      "    \n",
      "    Set text labels:\n",
      "    \n",
      "        >>> xticks(np.arange(5), ('Tom', 'Dick', 'Harry', 'Sally', 'Sue'))\n",
      "    \n",
      "    Set text labels and properties:\n",
      "    \n",
      "        >>> xticks(np.arange(12), calendar.month_name[1:13], rotation=20)\n",
      "    \n",
      "    Disable xticks:\n",
      "    \n",
      "        >>> xticks([])\n",
      "\n"
     ]
    }
   ],
   "source": [
    "help(plt.xticks)"
   ]
  },
  {
   "cell_type": "code",
   "execution_count": 40,
   "metadata": {
    "scrolled": true
   },
   "outputs": [
    {
     "data": {
      "text/plain": [
       "([<matplotlib.axis.XTick at 0x281f9aaaa88>,\n",
       "  <matplotlib.axis.XTick at 0x281f9aa2e48>,\n",
       "  <matplotlib.axis.XTick at 0x281f97e1288>,\n",
       "  <matplotlib.axis.XTick at 0x281f9833cc8>,\n",
       "  <matplotlib.axis.XTick at 0x281f984e348>,\n",
       "  <matplotlib.axis.XTick at 0x281f984ea88>,\n",
       "  <matplotlib.axis.XTick at 0x281f9ad3248>,\n",
       "  <matplotlib.axis.XTick at 0x281f9ad3988>],\n",
       " <a list of 8 Text xticklabel objects>)"
      ]
     },
     "execution_count": 40,
     "metadata": {},
     "output_type": "execute_result"
    },
    {
     "data": {
      "image/png": "[encoded data removed]",
      "text/plain": [
       "<Figure size 432x288 with 1 Axes>"
      ]
     },
     "metadata": {
      "needs_background": "light"
     },
     "output_type": "display_data"
    }
   ],
   "source": [
    "plt.bar(temp_data['day'],temp_data['temp'])\n",
    "plt.xticks(range(0,10,2))"
   ]
  },
  {
   "cell_type": "code",
   "execution_count": 41,
   "metadata": {},
   "outputs": [
    {
     "data": {
      "text/plain": [
       "<matplotlib.collections.PathCollection at 0x281f9b1de48>"
      ]
     },
     "execution_count": 41,
     "metadata": {},
     "output_type": "execute_result"
    },
    {
     "data": {
      "image/png": "[encoded data removed]",
      "text/plain": [
       "<Figure size 432x288 with 1 Axes>"
      ]
     },
     "metadata": {
      "needs_background": "light"
     },
     "output_type": "display_data"
    }
   ],
   "source": [
    "plt.scatter(temp_data['day'],temp_data['temp'])"
   ]
  },
  {
   "cell_type": "code",
   "execution_count": 43,
   "metadata": {},
   "outputs": [
    {
     "data": {
      "text/plain": [
       "{'whiskers': [<matplotlib.lines.Line2D at 0x281f9cf0ec8>,\n",
       "  <matplotlib.lines.Line2D at 0x281f9cf0ac8>],\n",
       " 'caps': [<matplotlib.lines.Line2D at 0x281f9cf5bc8>,\n",
       "  <matplotlib.lines.Line2D at 0x281f9cf5fc8>],\n",
       " 'boxes': [<matplotlib.lines.Line2D at 0x281f9cf0088>],\n",
       " 'medians': [<matplotlib.lines.Line2D at 0x281f9cf5d48>],\n",
       " 'fliers': [<matplotlib.lines.Line2D at 0x281f9cfcc08>],\n",
       " 'means': []}"
      ]
     },
     "execution_count": 43,
     "metadata": {},
     "output_type": "execute_result"
    },
    {
     "data": {
      "image/png": "[encoded data removed]",
      "text/plain": [
       "<Figure size 432x288 with 1 Axes>"
      ]
     },
     "metadata": {
      "needs_background": "light"
     },
     "output_type": "display_data"
    }
   ],
   "source": [
    "plt.boxplot(temp_data['temp'])"
   ]
  },
  {
   "cell_type": "code",
   "execution_count": 50,
   "metadata": {},
   "outputs": [],
   "source": [
    "import seaborn as sns"
   ]
  },
  {
   "cell_type": "code",
   "execution_count": 48,
   "metadata": {},
   "outputs": [],
   "source": [
    "tips = pd.read_csv('C:/Users/tin2383/Desktop/tip.csv')"
   ]
  },
  {
   "cell_type": "code",
   "execution_count": 51,
   "metadata": {},
   "outputs": [],
   "source": [
    "total_day_tip = tips.groupby(['day']).agg({'tip':sum}).reset_index()"
   ]
  },
  {
   "cell_type": "code",
   "execution_count": 52,
   "metadata": {},
   "outputs": [
    {
     "data": {
      "text/html": [
       "<div>\n",
       "<style scoped>\n",
       "    .dataframe tbody tr th:only-of-type {\n",
       "        vertical-align: middle;\n",
       "    }\n",
       "\n",
       "    .dataframe tbody tr th {\n",
       "        vertical-align: top;\n",
       "    }\n",
       "\n",
       "    .dataframe thead th {\n",
       "        text-align: right;\n",
       "    }\n",
       "</style>\n",
       "<table border=\"1\" class=\"dataframe\">\n",
       "  <thead>\n",
       "    <tr style=\"text-align: right;\">\n",
       "      <th></th>\n",
       "      <th>day</th>\n",
       "      <th>tip</th>\n",
       "    </tr>\n",
       "  </thead>\n",
       "  <tbody>\n",
       "    <tr>\n",
       "      <td>0</td>\n",
       "      <td>Fri</td>\n",
       "      <td>3.61</td>\n",
       "    </tr>\n",
       "    <tr>\n",
       "      <td>1</td>\n",
       "      <td>Mon</td>\n",
       "      <td>1.66</td>\n",
       "    </tr>\n",
       "    <tr>\n",
       "      <td>2</td>\n",
       "      <td>Sun</td>\n",
       "      <td>7.82</td>\n",
       "    </tr>\n",
       "    <tr>\n",
       "      <td>3</td>\n",
       "      <td>Thur</td>\n",
       "      <td>3.61</td>\n",
       "    </tr>\n",
       "  </tbody>\n",
       "</table>\n",
       "</div>"
      ],
      "text/plain": [
       "    day   tip\n",
       "0   Fri  3.61\n",
       "1   Mon  1.66\n",
       "2   Sun  7.82\n",
       "3  Thur  3.61"
      ]
     },
     "execution_count": 52,
     "metadata": {},
     "output_type": "execute_result"
    }
   ],
   "source": [
    "total_day_tip"
   ]
  },
  {
   "cell_type": "code",
   "execution_count": 56,
   "metadata": {},
   "outputs": [
    {
     "data": {
      "text/plain": [
       "([<matplotlib.patches.Wedge at 0x281fbc02488>,\n",
       "  <matplotlib.patches.Wedge at 0x281fbc02bc8>,\n",
       "  <matplotlib.patches.Wedge at 0x281fbc0d488>,\n",
       "  <matplotlib.patches.Wedge at 0x281fbc0dd48>],\n",
       " [Text(1.439543475899827, 1.1619873411506019, 'Fri'),\n",
       "  Text(-0.16423767091661817, 1.6418057094101863, 'Mon'),\n",
       "  Text(-1.5701997831088308, -0.5069246897962075, 'Sun'),\n",
       "  Text(1.2839166690223383, -1.0363676890981233, 'Thur')],\n",
       " [Text(0.855944769453951, 0.6909113920354929, '21.62%'),\n",
       "  Text(-0.08958418413633717, 0.8955303869510105, '9.94%'),\n",
       "  Text(-0.856472608968453, -0.27650437625247676, '46.83%'),\n",
       "  Text(0.7003181831030935, -0.5652914667807943, '21.62%')])"
      ]
     },
     "execution_count": 56,
     "metadata": {},
     "output_type": "execute_result"
    },
    {
     "data": {
      "image/png": "[encoded data removed]",
      "text/plain": [
       "<Figure size 432x288 with 1 Axes>"
      ]
     },
     "metadata": {},
     "output_type": "display_data"
    }
   ],
   "source": [
    "plt.pie(total_day_tip['tip'],labels=total_day_tip['day'],autopct='%0.2f%%',radius=1.5,explode=[0.2,0,0,0])"
   ]
  }
 ],
 "metadata": {
  "kernelspec": {
   "display_name": "Python 3",
   "language": "python",
   "name": "python3"
  },
  "language_info": {
   "codemirror_mode": {
    "name": "ipython",
    "version": 3
   },
   "file_extension": ".py",
   "mimetype": "text/x-python",
   "name": "python",
   "nbconvert_exporter": "python",
   "pygments_lexer": "ipython3",
   "version": "3.7.4"
  }
 },
 "nbformat": 4,
 "nbformat_minor": 2
}
