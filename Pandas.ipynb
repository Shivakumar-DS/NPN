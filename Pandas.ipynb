{
 "cells": [
  {
   "cell_type": "code",
   "execution_count": 44,
   "metadata": {},
   "outputs": [],
   "source": [
    "import pandas as pd"
   ]
  },
  {
   "cell_type": "code",
   "execution_count": 67,
   "metadata": {},
   "outputs": [
    {
     "name": "stdout",
     "output_type": "stream",
     "text": [
      "{'Gender': ['M', 'F', 'M', 'F', 'F']}\n"
     ]
    }
   ],
   "source": [
    "#Dictionary \n",
    "test_points = {\"Gender\":[\"M\",\"F\",\"M\",\"F\",\"F\"]}\n",
    "print(test_points)"
   ]
  },
  {
   "cell_type": "code",
   "execution_count": 46,
   "metadata": {},
   "outputs": [
    {
     "name": "stdout",
     "output_type": "stream",
     "text": [
      "Gender    [M, F, M, F, F]\n",
      "dtype: object\n"
     ]
    }
   ],
   "source": [
    "# Step 1: Converting Given Dictionary to Pandas Series\n",
    "test_points_series = pd.Series(test_points)\n",
    "print(test_points_series)"
   ]
  },
  {
   "cell_type": "code",
   "execution_count": 50,
   "metadata": {},
   "outputs": [
    {
     "name": "stdout",
     "output_type": "stream",
     "text": [
      "                 Gender\n",
      "Gender  [M, F, M, F, F]\n"
     ]
    }
   ],
   "source": [
    "# Step 2: Converting the series from Step 1 to Pandas DataFrame\n",
    "df = pd.DataFrame(data=test_points_series,columns=['Gender'])\n",
    "print(df)"
   ]
  },
  {
   "cell_type": "code",
   "execution_count": 55,
   "metadata": {},
   "outputs": [
    {
     "name": "stdout",
     "output_type": "stream",
     "text": [
      "a    89.2\n",
      "b    76.4\n",
      "c    98.2\n",
      "d    75.9\n",
      "dtype: float64\n",
      "(2, 3)\n",
      "c    98.2\n",
      "a    89.2\n",
      "dtype: float64\n"
     ]
    }
   ],
   "source": [
    "s = pd.Series([89.2,76.4,98.2,75.9],index=list('abcd'))\n",
    "print(s)\n",
    "data = [{'a':1,'b':2},{'a':5,'b':10,'c':20}]\n",
    "df = pd.DataFrame(data)\n",
    "print(df.shape)\n",
    "print(s[['c','a']])"
   ]
  },
  {
   "cell_type": "code",
   "execution_count": 68,
   "metadata": {},
   "outputs": [
    {
     "name": "stdout",
     "output_type": "stream",
     "text": [
      "  Gender\n",
      "0      M\n",
      "1      F\n",
      "2      M\n",
      "3      F\n",
      "4      F\n"
     ]
    }
   ],
   "source": [
    "# Step 3: Converting the Dictionary from Step 1 to Pandas DataFrame\n",
    "df = pd.DataFrame(data=test_points,columns=['Gender'])\n",
    "print(df)"
   ]
  },
  {
   "cell_type": "code",
   "execution_count": 70,
   "metadata": {},
   "outputs": [
    {
     "name": "stdout",
     "output_type": "stream",
     "text": [
      "  Gender  count\n",
      "0      F      3\n",
      "1      M      2\n"
     ]
    }
   ],
   "source": [
    "# Step 4: Finding the total count of gender = 'M' and gender = 'F'\n",
    "#count_of_M = df.pivot_table(index=['Gender'],aggfunc='size')\n",
    "count_of_M_F = df.groupby(['Gender']).size().reset_index(name='count')\n",
    "print(count_of_M_F)"
   ]
  }
 ],
 "metadata": {
  "kernelspec": {
   "display_name": "Python 3",
   "language": "python",
   "name": "python3"
  },
  "language_info": {
   "codemirror_mode": {
    "name": "ipython",
    "version": 3
   },
   "file_extension": ".py",
   "mimetype": "text/x-python",
   "name": "python",
   "nbconvert_exporter": "python",
   "pygments_lexer": "ipython3",
   "version": "3.7.6"
  }
 },
 "nbformat": 4,
 "nbformat_minor": 4
}
