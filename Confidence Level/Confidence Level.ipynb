{
 "cells": [
  {
   "cell_type": "markdown",
   "metadata": {},
   "source": [
    "A paper manufacturer has a production process that operates continously. \n",
    "The paper is expected to have a mean length of 11 inches and a standard deviation of 0.02 inches. \n",
    "At periodic interval, a sample is selected to determine whether the paper length is still equal to 11 inches. \n",
    "You select a random sample of 100 sheets and the mean paper length is 10.998 inches\n",
    "\n",
    "\n",
    "1.   Construct a 95% confidence interval\n",
    "2.   Construct a 99% confidence interval"
   ]
  },
  {
   "cell_type": "code",
   "execution_count": 1,
   "metadata": {},
   "outputs": [],
   "source": []
  },
  {
   "cell_type": "code",
   "execution_count": 2,
   "metadata": {},
   "outputs": [],
   "source": [
    "mean_len = 11\n",
    "std = 0.02\n",
    "random_sample = 100"
   ]
  },
  {
   "cell_type": "markdown",
   "metadata": {},
   "source": [
    "Confidence Level to Z-Score \n",
    "95% - 1.96, \n",
    "99% - 2.57"
   ]
  },
  {
   "cell_type": "markdown",
   "metadata": {},
   "source": [
    "Confidence Level CL = 95%\n",
    "alpha = 1 - 0.95 = 0.05\n",
    "Confidence Level CL = 99%\n",
    "aplha = 1- 0.99 = 0.01\n",
    "Margin of Error E"
   ]
  },
  {
   "cell_type": "code",
   "execution_count": 26,
   "metadata": {
    "scrolled": true
   },
   "outputs": [
    {
     "data": {
      "text/plain": [
       "3.92e-06"
      ]
     },
     "execution_count": 26,
     "metadata": {},
     "output_type": "execute_result"
    }
   ],
   "source": [
    "#Calculating Margin of Error for 95% CL\n",
    "Margin_Error = 1.96 * (0.02/100**2)\n",
    "Margin_Error"
   ]
  },
  {
   "cell_type": "code",
   "execution_count": 27,
   "metadata": {},
   "outputs": [
    {
     "name": "stdout",
     "output_type": "stream",
     "text": [
      "10.99999608 11.00000392\n"
     ]
    }
   ],
   "source": [
    "#lower limit\n",
    "lower_limit_95 = 11 - Margin_Error\n",
    "#Upper limit\n",
    "upper_limit_95 = 11 + Margin_Error\n",
    "print(lower_limit_95,upper_limit_95)"
   ]
  },
  {
   "cell_type": "code",
   "execution_count": 24,
   "metadata": {
    "scrolled": true
   },
   "outputs": [
    {
     "data": {
      "text/plain": [
       "5.139999999999999e-06"
      ]
     },
     "execution_count": 24,
     "metadata": {},
     "output_type": "execute_result"
    }
   ],
   "source": [
    "#Calculating Margin of Error for 99% CL\n",
    "Margin_Error_99 = 2.57 * (0.02/100**2)\n",
    "Margin_Error_99"
   ]
  },
  {
   "cell_type": "code",
   "execution_count": 28,
   "metadata": {},
   "outputs": [
    {
     "name": "stdout",
     "output_type": "stream",
     "text": [
      "10.99999486 11.00000514\n"
     ]
    }
   ],
   "source": [
    "lower_limit = 11 - Margin_Error_99\n",
    "upper_limit = 11 + Margin_Error_99\n",
    "print(lower_limit, upper_limit)"
   ]
  },
  {
   "cell_type": "code",
   "execution_count": 29,
   "metadata": {},
   "outputs": [
    {
     "data": {
      "text/plain": [
       "{'Confidence Level': ['95%', '99%'],\n",
       " 'Critical Value': ['1.96', '2.57'],\n",
       " 'Margin of Error': ['0.00392', '0.00513'],\n",
       " 'Confidence Interval': (10.99999608, 11.00000392, 10.99999486, 11.00000514)}"
      ]
     },
     "execution_count": 29,
     "metadata": {},
     "output_type": "execute_result"
    }
   ],
   "source": [
    "{\"Confidence Level\":[\"95%\",\"99%\"], \n",
    " \"Critical Value\":[\"1.96\",\"2.57\"],\n",
    " \"Margin of Error\":[\"0.00392\",\"0.00513\"],\n",
    " \"Confidence Interval\":(10.99999608, 11.00000392,10.99999486 ,11.00000514)}"
   ]
  },
  {
   "cell_type": "code",
   "execution_count": null,
   "metadata": {},
   "outputs": [],
   "source": [
    "#We are 95% confident that the paper length mean score is between 10.99999608 < U < 11.00000392\n",
    "#We are 99% confident that the paper length mean score is between 10.99999486 < U < 11.00000514"
   ]
  }
 ],
 "metadata": {
  "kernelspec": {
   "display_name": "Python 3",
   "language": "python",
   "name": "python3"
  },
  "language_info": {
   "codemirror_mode": {
    "name": "ipython",
    "version": 3
   },
   "file_extension": ".py",
   "mimetype": "text/x-python",
   "name": "python",
   "nbconvert_exporter": "python",
   "pygments_lexer": "ipython3",
   "version": "3.7.6"
  }
 },
 "nbformat": 4,
 "nbformat_minor": 4
}
